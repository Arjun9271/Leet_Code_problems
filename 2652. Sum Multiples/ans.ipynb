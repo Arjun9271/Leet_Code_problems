{
 "cells": [
  {
   "cell_type": "raw",
   "metadata": {
    "vscode": {
     "languageId": "raw"
    }
   },
   "source": [
    "Given a positive integer n, find the sum of all integers in the range [1, n] inclusive that are divisible by 3, 5, or 7.\n",
    "\n",
    "Return an integer denoting the sum of all numbers in the given range satisfying the constraint.\n",
    "\n",
    " \n",
    "\n",
    "Example 1:\n",
    "\n",
    "Input: n = 7\n",
    "Output: 21\n",
    "Explanation: Numbers in the range [1, 7] that are divisible by 3, 5, or 7 are 3, 5, 6, 7. The sum of these numbers is 21.\n",
    "Example 2:"
   ]
  },
  {
   "cell_type": "code",
   "execution_count": 3,
   "metadata": {},
   "outputs": [
    {
     "name": "stdout",
     "output_type": "stream",
     "text": [
      "sum of mulltiples:21\n"
     ]
    }
   ],
   "source": [
    "def sumofMultiples(n):\n",
    "    sum_val = 0\n",
    "    for i in range(1,n+1):\n",
    "        if i%3 == 0 or i%5 == 0 or i%7 == 0:\n",
    "            sum_val += i\n",
    "    \n",
    "    return sum_val\n",
    "\n",
    "print(f\"sum of mulltiples:{sumofMultiples(7)}\")"
   ]
  },
  {
   "cell_type": "code",
   "execution_count": null,
   "metadata": {},
   "outputs": [],
   "source": []
  }
 ],
 "metadata": {
  "kernelspec": {
   "display_name": "base",
   "language": "python",
   "name": "python3"
  },
  "language_info": {
   "codemirror_mode": {
    "name": "ipython",
    "version": 3
   },
   "file_extension": ".py",
   "mimetype": "text/x-python",
   "name": "python",
   "nbconvert_exporter": "python",
   "pygments_lexer": "ipython3",
   "version": "3.11.5"
  }
 },
 "nbformat": 4,
 "nbformat_minor": 2
}
