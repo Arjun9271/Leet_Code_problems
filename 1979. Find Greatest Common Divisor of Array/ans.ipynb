{
 "cells": [
  {
   "cell_type": "code",
   "execution_count": 8,
   "metadata": {},
   "outputs": [
    {
     "name": "stdout",
     "output_type": "stream",
     "text": [
      "1\n"
     ]
    }
   ],
   "source": [
    "def gcd_num(nums):\n",
    "    a = min(nums)\n",
    "    b = max(nums)\n",
    "    \n",
    "    while (a>0 and b>0):\n",
    "        if a > b:\n",
    "            a = a%b\n",
    "        else:\n",
    "            b = b%a\n",
    "    if a == 0:\n",
    "        return b\n",
    "    return a\n",
    "nums = [7,5,6,8,3]\n",
    "res = gcd_num(nums)\n",
    "print(res)"
   ]
  },
  {
   "cell_type": "code",
   "execution_count": 1,
   "metadata": {},
   "outputs": [],
   "source": [
    "# approach -2"
   ]
  },
  {
   "cell_type": "code",
   "execution_count": 4,
   "metadata": {},
   "outputs": [
    {
     "name": "stdout",
     "output_type": "stream",
     "text": [
      "18\n"
     ]
    }
   ],
   "source": [
    "def gcd_2_num(a,b):\n",
    "    if b == 0:\n",
    "        return a\n",
    "    return gcd_2_num(b,a%b)\n",
    "\n",
    "result = gcd_2_num(36,54)\n",
    "\n",
    "print(result)"
   ]
  },
  {
   "cell_type": "code",
   "execution_count": null,
   "metadata": {},
   "outputs": [],
   "source": []
  },
  {
   "cell_type": "code",
   "execution_count": null,
   "metadata": {},
   "outputs": [],
   "source": []
  }
 ],
 "metadata": {
  "kernelspec": {
   "display_name": "base",
   "language": "python",
   "name": "python3"
  },
  "language_info": {
   "codemirror_mode": {
    "name": "ipython",
    "version": 3
   },
   "file_extension": ".py",
   "mimetype": "text/x-python",
   "name": "python",
   "nbconvert_exporter": "python",
   "pygments_lexer": "ipython3",
   "version": "3.11.5"
  }
 },
 "nbformat": 4,
 "nbformat_minor": 2
}
