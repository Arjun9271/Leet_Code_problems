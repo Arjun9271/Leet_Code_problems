{
 "cells": [
  {
   "cell_type": "markdown",
   "metadata": {},
   "source": [
    "- You are given a positive integer array nums.\n",
    "\n",
    "- The element sum is the sum of all the elements in nums.\n",
    "- The digit sum is the sum of all the digits (not necessarily distinct) that appear in nums.\n",
    "- Return the absolute difference between the element sum and digit sum of nums.\n",
    "\n",
    "- Note that the absolute difference between two integers x and y is defined as |x - y|.\n",
    "- nums = [1,15,6,3]"
   ]
  },
  {
   "cell_type": "code",
   "execution_count": 3,
   "metadata": {},
   "outputs": [
    {
     "name": "stdout",
     "output_type": "stream",
     "text": [
      "9\n"
     ]
    }
   ],
   "source": [
    "def dif_ele_digit(arr):\n",
    "    total_val = sum(arr)\n",
    "    \n",
    "    def each_digit_sum(n):  # to caluclate the element sum\n",
    "        temp = n\n",
    "        sum_val = 0\n",
    "        while temp > 0:\n",
    "            sum_val += temp%10\n",
    "            temp //= 10\n",
    "        return sum_val\n",
    "    \n",
    "    return total_val - sum(list(map(each_digit_sum,arr)))\n",
    "\n",
    "nums = [1,15,6,3]\n",
    "result = dif_ele_digit(nums)\n",
    "print(result)\n",
    "    \n"
   ]
  },
  {
   "cell_type": "code",
   "execution_count": null,
   "metadata": {},
   "outputs": [],
   "source": []
  },
  {
   "cell_type": "code",
   "execution_count": null,
   "metadata": {},
   "outputs": [],
   "source": []
  },
  {
   "cell_type": "code",
   "execution_count": null,
   "metadata": {},
   "outputs": [],
   "source": []
  },
  {
   "cell_type": "code",
   "execution_count": null,
   "metadata": {},
   "outputs": [],
   "source": []
  }
 ],
 "metadata": {
  "kernelspec": {
   "display_name": "base",
   "language": "python",
   "name": "python3"
  },
  "language_info": {
   "codemirror_mode": {
    "name": "ipython",
    "version": 3
   },
   "file_extension": ".py",
   "mimetype": "text/x-python",
   "name": "python",
   "nbconvert_exporter": "python",
   "pygments_lexer": "ipython3",
   "version": "3.11.5"
  }
 },
 "nbformat": 4,
 "nbformat_minor": 2
}
