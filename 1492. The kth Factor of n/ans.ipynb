{
 "cells": [
  {
   "cell_type": "markdown",
   "metadata": {},
   "source": [
    "You are given two positive integers n and k. A factor of an integer n is defined as an integer i where n % i == 0.\n",
    "\n",
    "Consider a list of all factors of n sorted in ascending order, return the kth factor in this list or return -1 if n has less than k factors.\n",
    "\n",
    "- Input: n = 12, k = 3\n",
    "- Output: 3\n",
    "- Explanation: Factors list is [1, 2, 3, 4, 6, 12], the 3rd factor is 3.\n",
    "# ----------\n",
    "- Input: n = 7, k = 2\n",
    "- Output: 7\n",
    "- Explanation: Factors list is [1, 7], the 2nd factor is 7."
   ]
  },
  {
   "cell_type": "code",
   "execution_count": 2,
   "metadata": {},
   "outputs": [
    {
     "name": "stdout",
     "output_type": "stream",
     "text": [
      "7\n"
     ]
    }
   ],
   "source": [
    "def kth_factor(n,k):\n",
    "    i = 1\n",
    "    li = list()\n",
    "    while i*i <= n:\n",
    "        if n%i == 0:\n",
    "            li.append(i)\n",
    "        i += 1\n",
    "    i -= 1\n",
    "    while i >= 1:\n",
    "        if n%i == 0 and n//i != i:\n",
    "            li.append(n//i)\n",
    "        i -= 1\n",
    "    if len(li) < k:\n",
    "        return -1\n",
    "    \n",
    "    return li[k-1]\n",
    "\n",
    "result = kth_factor(7,2)\n",
    "print(result) \n",
    "    "
   ]
  },
  {
   "cell_type": "code",
   "execution_count": null,
   "metadata": {},
   "outputs": [],
   "source": []
  },
  {
   "cell_type": "code",
   "execution_count": null,
   "metadata": {},
   "outputs": [],
   "source": []
  },
  {
   "cell_type": "code",
   "execution_count": null,
   "metadata": {},
   "outputs": [],
   "source": []
  },
  {
   "cell_type": "code",
   "execution_count": null,
   "metadata": {},
   "outputs": [],
   "source": []
  }
 ],
 "metadata": {
  "kernelspec": {
   "display_name": "base",
   "language": "python",
   "name": "python3"
  },
  "language_info": {
   "codemirror_mode": {
    "name": "ipython",
    "version": 3
   },
   "file_extension": ".py",
   "mimetype": "text/x-python",
   "name": "python",
   "nbconvert_exporter": "python",
   "pygments_lexer": "ipython3",
   "version": "3.11.5"
  }
 },
 "nbformat": 4,
 "nbformat_minor": 2
}
