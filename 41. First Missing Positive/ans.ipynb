{
 "cells": [
  {
   "cell_type": "code",
   "execution_count": 3,
   "metadata": {},
   "outputs": [
    {
     "name": "stdout",
     "output_type": "stream",
     "text": [
      "1\n"
     ]
    }
   ],
   "source": [
    "# we need to solve in O(n)\n",
    "\n",
    "def first_missing_number(arr):\n",
    "    n = len(arr)\n",
    "    vis = [False]*n\n",
    "    \n",
    "    for i in range(n):\n",
    "        if 0 < arr[i] <= n:\n",
    "            vis[arr[i]-1] = True\n",
    "    \n",
    "    for j in range(1,n+1):\n",
    "        if not vis[j-1]:\n",
    "            return j\n",
    "    \n",
    "    return n+1 \n",
    "\n",
    "nums = [-1,2,3]\n",
    "result = first_missing_number(nums)\n",
    "print(result)   \n",
    "    "
   ]
  },
  {
   "cell_type": "code",
   "execution_count": null,
   "metadata": {},
   "outputs": [],
   "source": []
  },
  {
   "cell_type": "code",
   "execution_count": null,
   "metadata": {},
   "outputs": [],
   "source": []
  },
  {
   "cell_type": "code",
   "execution_count": null,
   "metadata": {},
   "outputs": [],
   "source": []
  },
  {
   "cell_type": "code",
   "execution_count": null,
   "metadata": {},
   "outputs": [],
   "source": []
  }
 ],
 "metadata": {
  "kernelspec": {
   "display_name": "base",
   "language": "python",
   "name": "python3"
  },
  "language_info": {
   "codemirror_mode": {
    "name": "ipython",
    "version": 3
   },
   "file_extension": ".py",
   "mimetype": "text/x-python",
   "name": "python",
   "nbconvert_exporter": "python",
   "pygments_lexer": "ipython3",
   "version": "3.11.5"
  }
 },
 "nbformat": 4,
 "nbformat_minor": 2
}
