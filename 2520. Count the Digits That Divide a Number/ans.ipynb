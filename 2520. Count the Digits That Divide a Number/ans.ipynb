{
 "cells": [
  {
   "cell_type": "code",
   "execution_count": 2,
   "metadata": {},
   "outputs": [
    {
     "name": "stdout",
     "output_type": "stream",
     "text": [
      "4\n"
     ]
    }
   ],
   "source": [
    "# count the digits that divide a number:\n",
    "\n",
    "def cnt_div_number(n):\n",
    "    temp = n\n",
    "    count = 0\n",
    "    while temp > 0:\n",
    "        last_digit = temp%10\n",
    "        if n%last_digit == 0:\n",
    "            count += 1\n",
    "        temp //= 10\n",
    "    return count\n",
    "ans = cnt_div_number(1248)\n",
    "print(ans)"
   ]
  },
  {
   "cell_type": "code",
   "execution_count": null,
   "metadata": {},
   "outputs": [],
   "source": []
  }
 ],
 "metadata": {
  "kernelspec": {
   "display_name": "base",
   "language": "python",
   "name": "python3"
  },
  "language_info": {
   "codemirror_mode": {
    "name": "ipython",
    "version": 3
   },
   "file_extension": ".py",
   "mimetype": "text/x-python",
   "name": "python",
   "nbconvert_exporter": "python",
   "pygments_lexer": "ipython3",
   "version": "3.11.5"
  }
 },
 "nbformat": 4,
 "nbformat_minor": 2
}
