{
 "cells": [
  {
   "cell_type": "code",
   "execution_count": 4,
   "metadata": {},
   "outputs": [
    {
     "name": "stdout",
     "output_type": "stream",
     "text": [
      "0\n"
     ]
    }
   ],
   "source": [
    "def minSubArrayLen(arr,target):\n",
    "    n = len(arr)\n",
    "    l = 0\n",
    "    sum_val = 0\n",
    "    min_length = float(\"inf\")\n",
    "    valid = 0\n",
    "    for r in range(n):\n",
    "        sum_val += arr[r]\n",
    "        \n",
    "        while sum_val >= target:\n",
    "            valid = 1\n",
    "            min_length = min(min_length,r-l+1)\n",
    "            sum_val -= arr[l]\n",
    "            l += 1\n",
    "            \n",
    "    if valid == 1:\n",
    "        return min_length\n",
    "    return 0\n",
    "nums = [1,1,1,1,1,1,1,1]\n",
    "result = minSubArrayLen(nums,11)\n",
    "print(result)"
   ]
  },
  {
   "cell_type": "code",
   "execution_count": null,
   "metadata": {},
   "outputs": [],
   "source": []
  },
  {
   "cell_type": "code",
   "execution_count": null,
   "metadata": {},
   "outputs": [],
   "source": []
  },
  {
   "cell_type": "code",
   "execution_count": null,
   "metadata": {},
   "outputs": [],
   "source": []
  },
  {
   "cell_type": "code",
   "execution_count": null,
   "metadata": {},
   "outputs": [],
   "source": []
  }
 ],
 "metadata": {
  "kernelspec": {
   "display_name": "base",
   "language": "python",
   "name": "python3"
  },
  "language_info": {
   "codemirror_mode": {
    "name": "ipython",
    "version": 3
   },
   "file_extension": ".py",
   "mimetype": "text/x-python",
   "name": "python",
   "nbconvert_exporter": "python",
   "pygments_lexer": "ipython3",
   "version": "3.11.5"
  }
 },
 "nbformat": 4,
 "nbformat_minor": 2
}
