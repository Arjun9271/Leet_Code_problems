{
 "cells": [
  {
   "cell_type": "code",
   "execution_count": 1,
   "metadata": {},
   "outputs": [
    {
     "name": "stdout",
     "output_type": "stream",
     "text": [
      "[0, 1, 2]\n"
     ]
    }
   ],
   "source": [
    "def is_anagram(dici1,dici2):\n",
    "    for i in dici1:\n",
    "        if i not in dici2:\n",
    "            return False\n",
    "        elif dici1[i] != dici2[i]:\n",
    "            return False\n",
    "    return True\n",
    "    \n",
    "def f_all_angrm_string(s,p):\n",
    "    l = 0\n",
    "    ans = list()\n",
    "    n = len(s)\n",
    "    k = len(p)\n",
    "    dici1 = {}\n",
    "    dici2 = {}\n",
    "    \n",
    "    for i in range(k):\n",
    "        if p[i] not in dici2:\n",
    "            dici2[p[i]] = 1\n",
    "        else:\n",
    "            dici2[p[i]] += 1\n",
    "    \n",
    "    for r in range(n):\n",
    "        ch = s[r]\n",
    "        if ch not in dici1:\n",
    "            dici1[ch] = 1\n",
    "        else:\n",
    "            dici1[ch] += 1\n",
    "        \n",
    "        if r-l == k:\n",
    "            dici1[s[l]] -= 1\n",
    "            if dici1[s[l]] == 0:\n",
    "                dici1.pop(s[l])\n",
    "            l += 1\n",
    "        \n",
    "        if r-l+1 == k:\n",
    "            if is_anagram(dici1,dici2):\n",
    "                ans.append(l)\n",
    "    return ans\n",
    "\n",
    "s = \"abab\"\n",
    "p = \"ab\"\n",
    "res = f_all_angrm_string(s,p)\n",
    "print(res)\n",
    "                "
   ]
  },
  {
   "cell_type": "code",
   "execution_count": null,
   "metadata": {},
   "outputs": [],
   "source": []
  }
 ],
 "metadata": {
  "kernelspec": {
   "display_name": "base",
   "language": "python",
   "name": "python3"
  },
  "language_info": {
   "codemirror_mode": {
    "name": "ipython",
    "version": 3
   },
   "file_extension": ".py",
   "mimetype": "text/x-python",
   "name": "python",
   "nbconvert_exporter": "python",
   "pygments_lexer": "ipython3",
   "version": "3.11.5"
  }
 },
 "nbformat": 4,
 "nbformat_minor": 2
}
