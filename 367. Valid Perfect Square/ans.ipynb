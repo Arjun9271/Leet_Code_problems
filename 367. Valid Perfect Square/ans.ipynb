{
 "cells": [
  {
   "cell_type": "code",
   "execution_count": 2,
   "metadata": {},
   "outputs": [
    {
     "name": "stdout",
     "output_type": "stream",
     "text": [
      "False\n"
     ]
    }
   ],
   "source": [
    "def is_valid_square(n):\n",
    "    l = 0\n",
    "    r = n\n",
    "    while l <= r:\n",
    "        mid = (l+r)//2\n",
    "        \n",
    "        if mid*mid == n:\n",
    "            return True\n",
    "        if mid*mid > n:\n",
    "            r = mid-1\n",
    "        else:\n",
    "            l = mid+1\n",
    "    return False\n",
    "\n",
    "result = is_valid_square(15)\n",
    "print(result)"
   ]
  },
  {
   "cell_type": "code",
   "execution_count": null,
   "metadata": {},
   "outputs": [],
   "source": []
  },
  {
   "cell_type": "code",
   "execution_count": null,
   "metadata": {},
   "outputs": [],
   "source": []
  }
 ],
 "metadata": {
  "kernelspec": {
   "display_name": "base",
   "language": "python",
   "name": "python3"
  },
  "language_info": {
   "codemirror_mode": {
    "name": "ipython",
    "version": 3
   },
   "file_extension": ".py",
   "mimetype": "text/x-python",
   "name": "python",
   "nbconvert_exporter": "python",
   "pygments_lexer": "ipython3",
   "version": "3.11.5"
  }
 },
 "nbformat": 4,
 "nbformat_minor": 2
}
