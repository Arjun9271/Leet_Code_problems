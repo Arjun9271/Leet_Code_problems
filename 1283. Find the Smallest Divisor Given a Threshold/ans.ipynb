{
 "cells": [
  {
   "cell_type": "code",
   "execution_count": 4,
   "metadata": {},
   "outputs": [
    {
     "name": "stdout",
     "output_type": "stream",
     "text": [
      "5\n"
     ]
    }
   ],
   "source": [
    "\n",
    "import math\n",
    "\n",
    "def smallest_divisor(nums,threshold):\n",
    "    \n",
    "    def is_valid(nums,threshold,k):\n",
    "        sum_val = 0\n",
    "        for i in nums:\n",
    "                sum_val += math.ceil(i/k)\n",
    "        if sum_val <= threshold:\n",
    "            return True\n",
    "        else:\n",
    "            return False\n",
    "        \n",
    "    l = 1\n",
    "    r = max(nums)\n",
    "    while l <= r:\n",
    "        mid = (l+r)//2\n",
    "        \n",
    "        if is_valid(nums,threshold,mid):\n",
    "            r = mid-1\n",
    "        else:\n",
    "            l = mid+1\n",
    "    return l\n",
    "\n",
    "arr = [1,2,5,9]\n",
    "t = 6\n",
    "result = smallest_divisor(arr,t)\n",
    "print(result)\n"
   ]
  },
  {
   "cell_type": "code",
   "execution_count": null,
   "metadata": {},
   "outputs": [],
   "source": []
  },
  {
   "cell_type": "code",
   "execution_count": null,
   "metadata": {},
   "outputs": [],
   "source": []
  }
 ],
 "metadata": {
  "kernelspec": {
   "display_name": "base",
   "language": "python",
   "name": "python3"
  },
  "language_info": {
   "codemirror_mode": {
    "name": "ipython",
    "version": 3
   },
   "file_extension": ".py",
   "mimetype": "text/x-python",
   "name": "python",
   "nbconvert_exporter": "python",
   "pygments_lexer": "ipython3",
   "version": "3.11.5"
  }
 },
 "nbformat": 4,
 "nbformat_minor": 2
}
