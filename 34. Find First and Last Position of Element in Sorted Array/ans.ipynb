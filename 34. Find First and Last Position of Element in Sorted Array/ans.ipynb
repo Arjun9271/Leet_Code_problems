{
 "cells": [
  {
   "cell_type": "code",
   "execution_count": 2,
   "metadata": {},
   "outputs": [
    {
     "name": "stdout",
     "output_type": "stream",
     "text": [
      "[1, 2]\n"
     ]
    }
   ],
   "source": [
    "def lmost_ele(arr,target):\n",
    "    n = len(arr)\n",
    "    l = 0\n",
    "    r = n-1\n",
    "    while l <= r:\n",
    "        \n",
    "        mid = (l+r)//2\n",
    "        \n",
    "        if arr[mid] >= target:\n",
    "            r = mid-1\n",
    "\n",
    "        else:\n",
    "            l = mid+1\n",
    "    if l >= n:\n",
    "        return -1\n",
    "            \n",
    "    if arr[l] != target:\n",
    "        return -1\n",
    "    return l\n",
    "    \n",
    "def rmost_ele(nums,target):\n",
    "    n = len(nums)\n",
    "    l = 0\n",
    "    r = n-1\n",
    "    while l <= r:\n",
    "        mid = (l+r)//2\n",
    "        \n",
    "        if nums[mid] == target:\n",
    "            l = mid+1\n",
    "        elif nums[mid] > target:\n",
    "            r = mid-1\n",
    "        else:\n",
    "            l = mid+1\n",
    "    if r<0:\n",
    "        return -1\n",
    "    if nums[r] != target:\n",
    "        return -1\n",
    "    return r\n",
    "    \n",
    "nums = [1,3,3,6,8,9,9,21]\n",
    "ta = 3\n",
    "        \n",
    "result = [lmost_ele(nums,ta),rmost_ele(nums,ta)]\n",
    "print(result)"
   ]
  },
  {
   "cell_type": "code",
   "execution_count": null,
   "metadata": {},
   "outputs": [],
   "source": []
  },
  {
   "cell_type": "code",
   "execution_count": null,
   "metadata": {},
   "outputs": [],
   "source": []
  },
  {
   "cell_type": "code",
   "execution_count": null,
   "metadata": {},
   "outputs": [],
   "source": []
  },
  {
   "cell_type": "code",
   "execution_count": null,
   "metadata": {},
   "outputs": [],
   "source": []
  }
 ],
 "metadata": {
  "kernelspec": {
   "display_name": "base",
   "language": "python",
   "name": "python3"
  },
  "language_info": {
   "codemirror_mode": {
    "name": "ipython",
    "version": 3
   },
   "file_extension": ".py",
   "mimetype": "text/x-python",
   "name": "python",
   "nbconvert_exporter": "python",
   "pygments_lexer": "ipython3",
   "version": "3.11.5"
  }
 },
 "nbformat": 4,
 "nbformat_minor": 2
}
