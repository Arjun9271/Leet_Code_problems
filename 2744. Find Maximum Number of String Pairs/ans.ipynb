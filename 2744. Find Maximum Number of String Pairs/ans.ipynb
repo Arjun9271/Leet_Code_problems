{
 "cells": [
  {
   "cell_type": "code",
   "execution_count": 1,
   "metadata": {},
   "outputs": [
    {
     "name": "stdout",
     "output_type": "stream",
     "text": [
      "2\n"
     ]
    }
   ],
   "source": [
    "words = [\"cd\",\"ac\",\"dc\",\"ca\",\"zz\"]\n",
    "temp = 0\n",
    "n = len(words)\n",
    "for i in range(len(words)-1):\n",
    "    for j in range(i+1,n):\n",
    "        if words[i] == words[j][::-1] :\n",
    "            temp += 1\n",
    "print(temp)"
   ]
  },
  {
   "cell_type": "code",
   "execution_count": 3,
   "metadata": {},
   "outputs": [],
   "source": [
    "# now we are coding for the maximum product subarray\n",
    "\n",
    "# step1: we need to replace or avoid the zero:because everything gng to become zero\n",
    "\n",
    "#step 2: we should multipy either in prefix or suffix and will compare to the maximum value\n",
    "\n",
    "#step:3: we will return the maximum value in between when ever we got zero it will be replaced by 1"
   ]
  },
  {
   "cell_type": "code",
   "execution_count": 6,
   "metadata": {},
   "outputs": [
    {
     "name": "stdout",
     "output_type": "stream",
     "text": [
      "6\n"
     ]
    }
   ],
   "source": [
    "arr = [1,0,1,2,3]\n",
    "\n",
    "pre = 1\n",
    "suf = 1\n",
    "n = len(arr)\n",
    "ans = float(\"-inf\")\n",
    "for i in range(n):\n",
    "    if pre == 0:\n",
    "        pre = 1\n",
    "    \n",
    "    pre = pre*arr[i]\n",
    "    # suf = suf*arr[n-i-1]\n",
    "    \n",
    "    ans = max(ans,pre)\n",
    "    # print(f'pre:{pre},suf:{suf},ans:{ans}')\n",
    "\n",
    "print(ans)    "
   ]
  },
  {
   "cell_type": "code",
   "execution_count": null,
   "metadata": {},
   "outputs": [],
   "source": []
  },
  {
   "cell_type": "code",
   "execution_count": null,
   "metadata": {},
   "outputs": [],
   "source": []
  }
 ],
 "metadata": {
  "kernelspec": {
   "display_name": "base",
   "language": "python",
   "name": "python3"
  },
  "language_info": {
   "codemirror_mode": {
    "name": "ipython",
    "version": 3
   },
   "file_extension": ".py",
   "mimetype": "text/x-python",
   "name": "python",
   "nbconvert_exporter": "python",
   "pygments_lexer": "ipython3",
   "version": "3.11.5"
  }
 },
 "nbformat": 4,
 "nbformat_minor": 2
}
