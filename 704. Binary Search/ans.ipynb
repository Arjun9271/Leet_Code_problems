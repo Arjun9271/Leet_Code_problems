{
 "cells": [
  {
   "cell_type": "code",
   "execution_count": 5,
   "metadata": {},
   "outputs": [
    {
     "name": "stdout",
     "output_type": "stream",
     "text": [
      "The element's index is 4\n"
     ]
    }
   ],
   "source": [
    "def search_ele(arr,target):\n",
    "    n = len(arr)\n",
    "    low = 0\n",
    "    high = n-1\n",
    "    \n",
    "    while low <= high:\n",
    "        \n",
    "        mid = (low+high)//2\n",
    "        \n",
    "        if arr[mid] == target:\n",
    "            return f\"The element's index is {mid}\"\n",
    "        elif arr[mid] > target:\n",
    "            high = mid-1\n",
    "        else:\n",
    "            low = mid+1\n",
    "    return -1\n",
    "nums = [-1,0,3,5,9,12]\n",
    "t = 9\n",
    "result = search_ele(nums,t)\n",
    "print(result)"
   ]
  },
  {
   "cell_type": "code",
   "execution_count": null,
   "metadata": {},
   "outputs": [],
   "source": []
  },
  {
   "cell_type": "code",
   "execution_count": null,
   "metadata": {},
   "outputs": [],
   "source": []
  },
  {
   "cell_type": "code",
   "execution_count": null,
   "metadata": {},
   "outputs": [],
   "source": []
  },
  {
   "cell_type": "code",
   "execution_count": null,
   "metadata": {},
   "outputs": [],
   "source": []
  },
  {
   "cell_type": "code",
   "execution_count": null,
   "metadata": {},
   "outputs": [],
   "source": []
  }
 ],
 "metadata": {
  "kernelspec": {
   "display_name": "base",
   "language": "python",
   "name": "python3"
  },
  "language_info": {
   "codemirror_mode": {
    "name": "ipython",
    "version": 3
   },
   "file_extension": ".py",
   "mimetype": "text/x-python",
   "name": "python",
   "nbconvert_exporter": "python",
   "pygments_lexer": "ipython3",
   "version": "3.11.5"
  }
 },
 "nbformat": 4,
 "nbformat_minor": 2
}
