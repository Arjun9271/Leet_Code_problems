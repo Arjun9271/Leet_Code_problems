{
 "cells": [
  {
   "cell_type": "raw",
   "metadata": {},
   "source": [
    "You are given a 0-indexed integer array nums and an integer pivot. Rearrange nums such that the following conditions are satisfied:\n",
    "\n",
    "Example 1:\n",
    "\n",
    "Input: nums = [9,12,5,10,14,3,10], pivot = 10\n",
    "Output: [9,5,3,10,10,12,14]\n",
    "Explanation: \n",
    "The elements 9, 5, and 3 are less than the pivot so they are on the left side of the array.\n",
    "The elements 12 and 14 are greater than the pivot so they are on the right side of the array.\n",
    "The relative ordering of the elements less than and greater than pivot is also maintained. [9, 5, 3] and [12, 14] are the respective orderings."
   ]
  },
  {
   "cell_type": "code",
   "execution_count": 2,
   "metadata": {},
   "outputs": [
    {
     "name": "stdout",
     "output_type": "stream",
     "text": [
      "[9, 5, 3, 10, 10, 12, 14]\n"
     ]
    }
   ],
   "source": [
    "class Solution:\n",
    "    \n",
    "    def pivotarray(self,arr,pivot):\n",
    "        n = len(arr)\n",
    "        \n",
    "        left,equal,right = [],[],[]\n",
    "        for i in arr:\n",
    "            if i < pivot:\n",
    "                left.append(i)\n",
    "            elif i == pivot:\n",
    "                equal.append(i)\n",
    "            else:\n",
    "                right.append(i)\n",
    "        \n",
    "        return left+equal+right\n",
    "\n",
    "if __name__ == \"__main__\":\n",
    "    nums = list(map(int,input('Enter the numbers:').split()))\n",
    "    P = int(input(\"Enter the pivot value:\"))\n",
    "    solution = Solution()\n",
    "    print(solution.pivotarray(nums,P))\n",
    "    "
   ]
  },
  {
   "cell_type": "code",
   "execution_count": null,
   "metadata": {},
   "outputs": [],
   "source": []
  },
  {
   "cell_type": "code",
   "execution_count": null,
   "metadata": {},
   "outputs": [],
   "source": []
  },
  {
   "cell_type": "code",
   "execution_count": null,
   "metadata": {},
   "outputs": [],
   "source": []
  }
 ],
 "metadata": {
  "kernelspec": {
   "display_name": "base",
   "language": "python",
   "name": "python3"
  },
  "language_info": {
   "codemirror_mode": {
    "name": "ipython",
    "version": 3
   },
   "file_extension": ".py",
   "mimetype": "text/x-python",
   "name": "python",
   "nbconvert_exporter": "python",
   "pygments_lexer": "ipython3",
   "version": "3.11.5"
  }
 },
 "nbformat": 4,
 "nbformat_minor": 2
}
