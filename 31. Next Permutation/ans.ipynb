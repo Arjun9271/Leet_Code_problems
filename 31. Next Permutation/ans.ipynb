{
 "cells": [
  {
   "cell_type": "code",
   "execution_count": null,
   "metadata": {},
   "outputs": [],
   "source": [
    "# lets write the code for the next permutation\n",
    "\n",
    "#step1: generally we will be looking for a pivot point\n",
    "\n",
    "#step2: we will be replacing that element with the largest from the right which is slightly larger than our pivot point\\\n",
    "\n",
    "#step3: this is our final step we will be reverse the numbers after our pivot point\n"
   ]
  },
  {
   "cell_type": "code",
   "execution_count": 1,
   "metadata": {},
   "outputs": [
    {
     "data": {
      "text/plain": [
       "[2, 4, 3, 2, 1, 3, 5]"
      ]
     },
     "execution_count": 1,
     "metadata": {},
     "output_type": "execute_result"
    }
   ],
   "source": [
    "arr = [2,4,3,1,5,3,2]\n",
    "\n",
    "def next_permutation_num(arr):\n",
    "    n = len(arr)\n",
    "    pivot = -1\n",
    "    \n",
    "    for i in range(n-2,-1,-1):\n",
    "        if arr[i] < arr[i+1]:\n",
    "            pivot = i\n",
    "            break\n",
    "    if pivot == -1:\n",
    "        arr.reverse()\n",
    "        return arr\n",
    "    \n",
    "    for j in range(n-1,pivot,-1):\n",
    "        if arr[j] > arr[pivot] :\n",
    "            arr[j],arr[pivot] = arr[pivot],arr[j]\n",
    "            break\n",
    "        \n",
    "    start,end = pivot+1,n-1\n",
    "    while start < end:\n",
    "        arr[start],arr[end] = arr[end],arr[start]\n",
    "        start += 1\n",
    "        end -= 1\n",
    "        \n",
    "    return arr\n",
    "        \n",
    "\n",
    "next_permutation_num(arr)"
   ]
  },
  {
   "cell_type": "code",
   "execution_count": null,
   "metadata": {},
   "outputs": [],
   "source": []
  }
 ],
 "metadata": {
  "kernelspec": {
   "display_name": "base",
   "language": "python",
   "name": "python3"
  },
  "language_info": {
   "codemirror_mode": {
    "name": "ipython",
    "version": 3
   },
   "file_extension": ".py",
   "mimetype": "text/x-python",
   "name": "python",
   "nbconvert_exporter": "python",
   "pygments_lexer": "ipython3",
   "version": "3.11.5"
  }
 },
 "nbformat": 4,
 "nbformat_minor": 2
}
