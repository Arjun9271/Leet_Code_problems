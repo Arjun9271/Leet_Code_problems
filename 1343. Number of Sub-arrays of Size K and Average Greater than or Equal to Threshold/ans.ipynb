{
 "cells": [
  {
   "cell_type": "code",
   "execution_count": 18,
   "metadata": {},
   "outputs": [
    {
     "name": "stdout",
     "output_type": "stream",
     "text": [
      "3\n"
     ]
    }
   ],
   "source": [
    "arr = [2,2,2,2,5,5,5,8]\n",
    "n = len(arr)\n",
    "ans = 0\n",
    "k = 3\n",
    "threshold = 4\n",
    "for i in range(n):\n",
    "    for j in range(i,n):\n",
    "        temp = []\n",
    "        sum = 0\n",
    "        for m in range(i,j+1):\n",
    "            temp.append(arr[m])\n",
    "            sum += arr[m]\n",
    "        if len(temp) == k and sum/k >= threshold:\n",
    "            ans += 1\n",
    "print(ans)\n",
    "            "
   ]
  },
  {
   "cell_type": "code",
   "execution_count": null,
   "metadata": {},
   "outputs": [
    {
     "name": "stdout",
     "output_type": "stream",
     "text": [
      "3\n"
     ]
    }
   ],
   "source": [
    "# sliding window approach\n",
    "\n",
    "arr = [2,2,2,2,5,5,5,8]\n",
    "n = len(arr)\n",
    "ans = 0\n",
    "k = 3\n",
    "l = 0\n",
    "threshold = 4\n",
    "\n",
    "temp = 0\n",
    "for r in range(n):\n",
    "    temp += arr[r]\n",
    "    if r-l == k:\n",
    "        temp -= arr[l]\n",
    "        l += 1\n",
    "    if r-l+1 == k:\n",
    "        if temp/k >= threshold:\n",
    "            ans += 1\n",
    "print(ans)\n"
   ]
  },
  {
   "cell_type": "code",
   "execution_count": null,
   "metadata": {},
   "outputs": [],
   "source": []
  },
  {
   "cell_type": "code",
   "execution_count": null,
   "metadata": {},
   "outputs": [],
   "source": []
  }
 ],
 "metadata": {
  "kernelspec": {
   "display_name": "base",
   "language": "python",
   "name": "python3"
  },
  "language_info": {
   "codemirror_mode": {
    "name": "ipython",
    "version": 3
   },
   "file_extension": ".py",
   "mimetype": "text/x-python",
   "name": "python",
   "nbconvert_exporter": "python",
   "pygments_lexer": "ipython3",
   "version": "3.11.5"
  }
 },
 "nbformat": 4,
 "nbformat_minor": 2
}
