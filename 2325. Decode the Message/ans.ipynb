{
 "cells": [
  {
   "cell_type": "code",
   "execution_count": 3,
   "metadata": {},
   "outputs": [],
   "source": [
    "key = \"eljuxhpwnyrdgtqkviszcfmabo\"\n",
    "message = \"zwx hnfx lqantp mnoeius ycgk vcnjrdb\"\n",
    "\n",
    "def decode_message(key,message):\n",
    "    temp = 97\n",
    "    dici = {}\n",
    "    for i in key:\n",
    "        if i != \" \" and i not in dici:\n",
    "            dici[i] = chr(temp)\n",
    "            temp += 1\n",
    "    ans = \"\"\n",
    "    for j in message:\n",
    "        if j in dici:\n",
    "            ans += dici[j]\n",
    "        else:\n",
    "            ans += \" \"\n",
    "    return ans"
   ]
  },
  {
   "cell_type": "code",
   "execution_count": 4,
   "metadata": {},
   "outputs": [
    {
     "data": {
      "text/plain": [
       "'the five boxing wizards jump quickly'"
      ]
     },
     "execution_count": 4,
     "metadata": {},
     "output_type": "execute_result"
    }
   ],
   "source": [
    "decode_message(key,message)"
   ]
  },
  {
   "cell_type": "code",
   "execution_count": 11,
   "metadata": {},
   "outputs": [
    {
     "name": "stdout",
     "output_type": "stream",
     "text": [
      "9\n"
     ]
    }
   ],
   "source": [
    "N = 123456789\n",
    "\n",
    "\n",
    "while N >= 10:\n",
    "    sum_digits = 0\n",
    "    while N > 0:\n",
    "        sum_digits += N % 10 \n",
    "        N //= 10              \n",
    "\n",
    "    N = sum_digits\n",
    "    \n",
    "print(N)\n",
    "    "
   ]
  },
  {
   "cell_type": "code",
   "execution_count": null,
   "metadata": {},
   "outputs": [],
   "source": []
  },
  {
   "cell_type": "code",
   "execution_count": null,
   "metadata": {},
   "outputs": [],
   "source": []
  },
  {
   "cell_type": "code",
   "execution_count": null,
   "metadata": {},
   "outputs": [],
   "source": []
  }
 ],
 "metadata": {
  "kernelspec": {
   "display_name": "base",
   "language": "python",
   "name": "python3"
  },
  "language_info": {
   "codemirror_mode": {
    "name": "ipython",
    "version": 3
   },
   "file_extension": ".py",
   "mimetype": "text/x-python",
   "name": "python",
   "nbconvert_exporter": "python",
   "pygments_lexer": "ipython3",
   "version": "3.11.5"
  }
 },
 "nbformat": 4,
 "nbformat_minor": 2
}
